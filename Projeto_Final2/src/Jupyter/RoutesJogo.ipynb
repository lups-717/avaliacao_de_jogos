{
 "cells": [
  {
   "cell_type": "markdown",
   "metadata": {},
   "source": [
    "Importa a classes EmpreaItem e EmpresaLista "
   ]
  },
  {
   "cell_type": "code",
   "execution_count": 5,
   "metadata": {},
   "outputs": [],
   "source": [
    "import requests"
   ]
  },
  {
   "cell_type": "code",
   "execution_count": null,
   "metadata": {},
   "outputs": [],
   "source": [
    "object = {\n",
    "    \"título\" : \"Sony\",\n",
    "    \"descricao\" : \"será algo?\",\n",
    "    \"Gênero\": \"algum\",\n",
    "    \"Data_de lançamento\" : \"2022-05-03\",\n",
    "    \"empresa_proprietária\" : 1\n",
    "\n",
    "}\n",
    "post = requests.post(\"http://127.0.0.1:5000/api/jogos\", json=object)\n",
    "if post.status_code == 200:\n",
    "    data = post.json()\n",
    "    print(data)"
   ]
  },
  {
   "cell_type": "code",
   "execution_count": 7,
   "metadata": {},
   "outputs": [],
   "source": [
    "get = requests.get(\"http://127.0.0.1:5000/api/jogos\")\n",
    "if get.status_code == 200:\n",
    "    data = get.json()\n",
    "    print(data)"
   ]
  },
  {
   "cell_type": "code",
   "execution_count": 8,
   "metadata": {},
   "outputs": [],
   "source": [
    "object = {\n",
    "    \"título\" : \"Sony\",\n",
    "    \"descricao\" : \"será algo?\",\n",
    "    \"Gênero\": \"algum\",\n",
    "    \"Data_de lançamento\" : \"2022-05-03\",\n",
    "    \"empresa_proprietária\" : 1\n",
    "}\n",
    "put = requests.put(\"http://127.0.0.1:5000/api/jogos/1\", json=object)\n",
    "if put.status_code == 200:\n",
    "    data = put.json()\n",
    "    print(data)"
   ]
  },
  {
   "cell_type": "code",
   "execution_count": 9,
   "metadata": {},
   "outputs": [],
   "source": [
    "delete = requests.delete(\"http://127.0.0.1:5000/api/jogos/1\",)\n",
    "if delete.status_code == 204:\n",
    "    data = delete.json()\n",
    "    print(data)"
   ]
  },
  {
   "cell_type": "code",
   "execution_count": null,
   "metadata": {},
   "outputs": [],
   "source": []
  },
  {
   "cell_type": "code",
   "execution_count": null,
   "metadata": {},
   "outputs": [],
   "source": []
  }
 ],
 "metadata": {
  "kernelspec": {
   "display_name": "Python 3",
   "language": "python",
   "name": "python3"
  },
  "language_info": {
   "codemirror_mode": {
    "name": "ipython",
    "version": 3
   },
   "file_extension": ".py",
   "mimetype": "text/x-python",
   "name": "python",
   "nbconvert_exporter": "python",
   "pygments_lexer": "ipython3",
   "version": "3.12.4"
  }
 },
 "nbformat": 4,
 "nbformat_minor": 2
}
